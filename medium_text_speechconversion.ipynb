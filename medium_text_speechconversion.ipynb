{
 "cells": [
  {
   "cell_type": "code",
   "execution_count": 18,
   "metadata": {},
   "outputs": [],
   "source": [
    "#importing libraries \n",
    "import os\n",
    "from gtts import gTTS"
   ]
  },
  {
   "cell_type": "code",
   "execution_count": 19,
   "metadata": {},
   "outputs": [],
   "source": [
    "# converting text to wav\n",
    "text='Hi ,Greetings for the day , i hope you will enjoy this tutorial Please let me know if you have any question or concern '"
   ]
  },
  {
   "cell_type": "code",
   "execution_count": 20,
   "metadata": {},
   "outputs": [],
   "source": [
    "#in Engllish\n",
    "language = 'en' #english\n",
    "speech = gTTS(text = text, lang = language, slow = False)"
   ]
  },
  {
   "cell_type": "code",
   "execution_count": 21,
   "metadata": {},
   "outputs": [
    {
     "data": {
      "text/plain": [
       "0"
      ]
     },
     "execution_count": 21,
     "metadata": {},
     "output_type": "execute_result"
    }
   ],
   "source": [
    "speech.save('medium_1.wav')\n",
    "#to play string in wav\n",
    "os.system('start medium_1.wav')"
   ]
  },
  {
   "cell_type": "code",
   "execution_count": 22,
   "metadata": {},
   "outputs": [
    {
     "data": {
      "text/plain": [
       "0"
      ]
     },
     "execution_count": 22,
     "metadata": {},
     "output_type": "execute_result"
    }
   ],
   "source": [
    "#2 in english\n",
    "# converting text to wav\n",
    "text='Namaste , Kaise hai aap ?Aasha hai aapko ye tutorial pasand aayegi'\n",
    "#in Hindi\n",
    "language = 'hi' #hindi\n",
    "speech = gTTS(text = text, lang = language, slow = False)\n",
    "\n",
    "speech.save('medium_hindi.wav')\n",
    "#to play string in wav\n",
    "os.system('start medium_hindi.wav')"
   ]
  },
  {
   "cell_type": "code",
   "execution_count": 28,
   "metadata": {},
   "outputs": [],
   "source": [
    "# importing .txt file"
   ]
  },
  {
   "cell_type": "code",
   "execution_count": 31,
   "metadata": {},
   "outputs": [
    {
     "data": {
      "text/plain": [
       "'coronavirus pandemic has affected all of us. However, it may turn out to be a boon rather than a curse. We will look at the top 5 positive impacts of COVID-19 lockdown. Things often happen when we least expect them. Did you ever think that there will be a time when the entire world will be in lockdown? In this age when every other person keeps throwing the quote “time is money” and runs from one place to another as if they stop, life will stop. Let me guess “No”, none of us would have imagined this in our weirdest of dreams. But then as the year 2019 was coming to end, a virus made its grand entry. Novel Corona-virus or Covid-19. Before we discuss the positive impacts of COVID-19 just take look at the stats/count/human lives lost or affected by this modern-day virus which has no vaccine or cure as of May 17, 2020. The best possible way is precaution by maintaining physical and social distance Is it that bad? Is this the worst thing to happen? It may be a blessing in disguise, a boon rather than a curse for humans. Before we discuss the top 5 positive impacts of COVID-19 lockdown. let’s quickly see what is this pandemic and when and how it entered our lives. What is COVID-19 ?COVID-19 is a highly infectious disease which is caused by severe acute respiratory syndrome coronavirus 2 (SARS-CoV-2). It was first identified in November 2019 in Wuhan, China, and has since spread globally impacting almost all countries on the world map, hence resulting in an ongoing pandemic. As I write this, various claims of vaccine creation in the last stages have been reported from different countries, however, nothing confirmed or final as of yet. Recently World Health Organization (WHO) went on to record warning “Corona may never go away” No doubt the future is uncertain and will bring a lot of challenges. however, as always we will come out of itstronger and better“Every moment is a fresh beginning.’ —T.S. Eliot'"
      ]
     },
     "execution_count": 31,
     "metadata": {},
     "output_type": "execute_result"
    }
   ],
   "source": [
    "file = open(\"test_text.txt\", \"r\").read().replace(\"\\n\", \" \")\n",
    "file"
   ]
  },
  {
   "cell_type": "code",
   "execution_count": 30,
   "metadata": {},
   "outputs": [
    {
     "data": {
      "text/plain": [
       "0"
      ]
     },
     "execution_count": 30,
     "metadata": {},
     "output_type": "execute_result"
    }
   ],
   "source": [
    "#in Engllish\n",
    "language = 'en' #english\n",
    "speech = gTTS(text = file, lang = language, slow = False)\n",
    "\n",
    "\n",
    "speech.save('import_txt.wav')\n",
    "#to play string in wav\n",
    "os.system('start import_txt.wav')"
   ]
  },
  {
   "cell_type": "code",
   "execution_count": null,
   "metadata": {},
   "outputs": [],
   "source": []
  }
 ],
 "metadata": {
  "kernelspec": {
   "display_name": "Python 3",
   "language": "python",
   "name": "python3"
  },
  "language_info": {
   "codemirror_mode": {
    "name": "ipython",
    "version": 3
   },
   "file_extension": ".py",
   "mimetype": "text/x-python",
   "name": "python",
   "nbconvert_exporter": "python",
   "pygments_lexer": "ipython3",
   "version": "3.7.4"
  }
 },
 "nbformat": 4,
 "nbformat_minor": 2
}
