{
  "nbformat": 4,
  "nbformat_minor": 0,
  "metadata": {
    "colab": {
      "name": "speaking multiplication table.ipynb",
      "provenance": [],
      "authorship_tag": "ABX9TyMMG5eNTtPD/xgITgBLktPt",
      "include_colab_link": true
    },
    "kernelspec": {
      "name": "python3",
      "display_name": "Python 3"
    }
  },
  "cells": [
    {
      "cell_type": "markdown",
      "metadata": {
        "id": "view-in-github",
        "colab_type": "text"
      },
      "source": [
        "<a href=\"https://colab.research.google.com/github/alby-beep/Text-to-speech-conversion/blob/master/speaking_multiplication_table.ipynb\" target=\"_parent\"><img src=\"https://colab.research.google.com/assets/colab-badge.svg\" alt=\"Open In Colab\"/></a>"
      ]
    },
    {
      "cell_type": "code",
      "metadata": {
        "colab": {
          "base_uri": "https://localhost:8080/"
        },
        "id": "1tmTPlkzARMO",
        "outputId": "7f315e43-9dd3-4af5-873d-99b25bc8650c"
      },
      "source": [
        "!pip install pyttsx3\r\n",
        "import pyttsx3\r\n",
        "from google.colab import drive\r\n",
        "drive.mount('/content/drive')\r\n",
        "!pip install gTTS\r\n",
        "from gtts import gTTS \r\n",
        "import os\r\n",
        "n=input(\"Enter a number \")\r\n",
        "dic={\r\n",
        "    \"1\":\"ones\",\r\n",
        "    \"2\":\"twos\",\r\n",
        "    \"3\":\"threes\",\r\n",
        "    \"4\":\"fours\",\r\n",
        "    \"5\":\"fives\",\r\n",
        "    \"6\":\"sixes\",\r\n",
        "    \"7\":\"sevens\",\r\n",
        "    \"8\":\"eights\",\r\n",
        "    \"9\":\"nines\",\r\n",
        "    \"10\":\"tens\"\r\n",
        "}\r\n",
        "txt=\"\"\r\n",
        "for i in range(1,11):\r\n",
        "  mul=i*int (n)\r\n",
        "  txt+=str (i) + \" \" + dic[n] + \" \" + \" are \" + str (mul) + \"\\n\"\r\n",
        "print(txt)\r\n",
        "myobj = gTTS(text=txt, lang='en', slow=False) \r\n",
        "myobj.save(\"/content/drive/My Drive/project/welcome.mp3\") \r\n",
        "os.system(\"mpg321 /content/drive/My Drive/project/welcome.mp3\") \r\n"
      ],
      "execution_count": 17,
      "outputs": [
        {
          "output_type": "stream",
          "text": [
            "Requirement already satisfied: pyttsx3 in /usr/local/lib/python3.6/dist-packages (2.90)\n",
            "Drive already mounted at /content/drive; to attempt to forcibly remount, call drive.mount(\"/content/drive\", force_remount=True).\n",
            "Requirement already satisfied: gTTS in /usr/local/lib/python3.6/dist-packages (2.2.1)\n",
            "Requirement already satisfied: requests in /usr/local/lib/python3.6/dist-packages (from gTTS) (2.23.0)\n",
            "Requirement already satisfied: six in /usr/local/lib/python3.6/dist-packages (from gTTS) (1.15.0)\n",
            "Requirement already satisfied: click in /usr/local/lib/python3.6/dist-packages (from gTTS) (7.1.2)\n",
            "Requirement already satisfied: urllib3!=1.25.0,!=1.25.1,<1.26,>=1.21.1 in /usr/local/lib/python3.6/dist-packages (from requests->gTTS) (1.24.3)\n",
            "Requirement already satisfied: certifi>=2017.4.17 in /usr/local/lib/python3.6/dist-packages (from requests->gTTS) (2020.12.5)\n",
            "Requirement already satisfied: idna<3,>=2.5 in /usr/local/lib/python3.6/dist-packages (from requests->gTTS) (2.10)\n",
            "Requirement already satisfied: chardet<4,>=3.0.2 in /usr/local/lib/python3.6/dist-packages (from requests->gTTS) (3.0.4)\n",
            "Enter a number 4\n",
            "1 fours  are 4\n",
            "2 fours  are 8\n",
            "3 fours  are 12\n",
            "4 fours  are 16\n",
            "5 fours  are 20\n",
            "6 fours  are 24\n",
            "7 fours  are 28\n",
            "8 fours  are 32\n",
            "9 fours  are 36\n",
            "10 fours  are 40\n",
            "\n"
          ],
          "name": "stdout"
        },
        {
          "output_type": "execute_result",
          "data": {
            "text/plain": [
              "32512"
            ]
          },
          "metadata": {
            "tags": []
          },
          "execution_count": 17
        }
      ]
    },
    {
      "cell_type": "code",
      "metadata": {
        "id": "PqagiTeZDpcn"
      },
      "source": [
        ""
      ],
      "execution_count": null,
      "outputs": []
    }
  ]
}